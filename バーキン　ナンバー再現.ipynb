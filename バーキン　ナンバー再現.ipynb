{
  "nbformat": 4,
  "nbformat_minor": 0,
  "metadata": {
    "colab": {
      "provenance": [],
      "authorship_tag": "ABX9TyPJxRBOcPtG8B0a8HAZAejB",
      "include_colab_link": true
    },
    "kernelspec": {
      "name": "python3",
      "display_name": "Python 3"
    },
    "language_info": {
      "name": "python"
    }
  },
  "cells": [
    {
      "cell_type": "markdown",
      "metadata": {
        "id": "view-in-github",
        "colab_type": "text"
      },
      "source": [
        "<a href=\"https://colab.research.google.com/github/osyo-yu/osyo-yu/blob/main/%E3%83%90%E3%83%BC%E3%82%AD%E3%83%B3%E3%80%80%E3%83%8A%E3%83%B3%E3%83%90%E3%83%BC%E5%86%8D%E7%8F%BE.ipynb\" target=\"_parent\"><img src=\"https://colab.research.google.com/assets/colab-badge.svg\" alt=\"Open In Colab\"/></a>"
      ]
    },
    {
      "cell_type": "code",
      "source": [
        "premise = {\"takeout\":1, \"eatin_1\":8, \"eatin_2\":9}\n",
        "order_number_nokori = [11,12,13,14,15]\n",
        "order = input (\"ご注文は何でしょう\")\n",
        "int (order)\n",
        "if order == \"ワッパー\":\n",
        "  order = input (\"イートイン・テイクアウト\")\n",
        "  if order == \"テイクアウト\":\n",
        "    maehanbun = premise[\"takeout\"]\n",
        "    usirohanbun = order\n"
      ],
      "metadata": {
        "id": "9hXpeMkh0pN2"
      },
      "execution_count": null,
      "outputs": []
    },
    {
      "cell_type": "code",
      "execution_count": null,
      "metadata": {
        "id": "ZVP8KYTf0htS"
      },
      "outputs": [],
      "source": []
    }
  ]
}